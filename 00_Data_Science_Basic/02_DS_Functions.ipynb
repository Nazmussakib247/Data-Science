{
 "cells": [
  {
   "cell_type": "markdown",
   "id": "7f3c474b",
   "metadata": {},
   "source": [
    "The max() function"
   ]
  },
  {
   "cell_type": "code",
   "execution_count": 4,
   "id": "27954851",
   "metadata": {},
   "outputs": [
    {
     "name": "stdout",
     "output_type": "stream",
     "text": [
      "125\n"
     ]
    }
   ],
   "source": [
    "Average_Max_Pulse = max(80, 85, 90, 95, 100, 105, 110, 115, 120, 125)\n",
    "print(Average_Max_Pulse)"
   ]
  },
  {
   "cell_type": "markdown",
   "id": "7376be1e",
   "metadata": {},
   "source": [
    "The min() function"
   ]
  },
  {
   "cell_type": "code",
   "execution_count": 5,
   "id": "701d98fb",
   "metadata": {},
   "outputs": [
    {
     "name": "stdout",
     "output_type": "stream",
     "text": [
      "80\n"
     ]
    }
   ],
   "source": [
    "Average_min_Pulse = min(80, 85, 90, 95, 100, 105, 110, 115, 120, 125)\n",
    "print(Average_min_Pulse)"
   ]
  },
  {
   "cell_type": "markdown",
   "id": "f3712777",
   "metadata": {},
   "source": [
    "The mean() function"
   ]
  },
  {
   "cell_type": "code",
   "execution_count": 6,
   "id": "fbf990ab",
   "metadata": {},
   "outputs": [
    {
     "name": "stdout",
     "output_type": "stream",
     "text": [
      "285.0\n"
     ]
    }
   ],
   "source": [
    "import numpy as np\n",
    "Calorie_burnage = [240, 250, 260, 270, 280, 290, 300, 310, 320, 330]\n",
    "Average_calorie_burnage = np.mean(Calorie_burnage)\n",
    "print(Average_calorie_burnage)"
   ]
  }
 ],
 "metadata": {
  "kernelspec": {
   "display_name": "Python 3",
   "language": "python",
   "name": "python3"
  },
  "language_info": {
   "codemirror_mode": {
    "name": "ipython",
    "version": 3
   },
   "file_extension": ".py",
   "mimetype": "text/x-python",
   "name": "python",
   "nbconvert_exporter": "python",
   "pygments_lexer": "ipython3",
   "version": "3.13.2"
  }
 },
 "nbformat": 4,
 "nbformat_minor": 5
}

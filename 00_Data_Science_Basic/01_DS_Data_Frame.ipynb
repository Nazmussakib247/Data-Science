{
 "cells": [
  {
   "cell_type": "markdown",
   "id": "54a7ae5d",
   "metadata": {},
   "source": [
    "A data frame with 3 columns and 5 rows with fictional numbers"
   ]
  },
  {
   "cell_type": "code",
   "execution_count": 9,
   "id": "d1de1e8d",
   "metadata": {},
   "outputs": [
    {
     "name": "stdout",
     "output_type": "stream",
     "text": [
      "   col1  col2  col3\n",
      "0     1     2     1\n",
      "1     3     4     5\n",
      "2     5     6    10\n",
      "3     7     8    15\n",
      "4     9    10    20\n"
     ]
    }
   ],
   "source": [
    "import pandas as pd\n",
    "d = {'col1': [1, 3, 5, 7, 9], 'col2' : [2, 4, 6, 8, 10], 'col3' : [1, 5, 10, 15, 20]}\n",
    "df = pd.DataFrame(data=d)\n",
    "print(df)"
   ]
  },
  {
   "cell_type": "markdown",
   "id": "585ee95b",
   "metadata": {},
   "source": [
    "Count the number of column and row"
   ]
  },
  {
   "cell_type": "code",
   "execution_count": 10,
   "id": "1eeffe8c",
   "metadata": {},
   "outputs": [
    {
     "name": "stdout",
     "output_type": "stream",
     "text": [
      "   col1  col2  col3\n",
      "0     1     2     1\n",
      "1     3     4     5\n",
      "2     5     6    10\n",
      "3     7     8    15\n",
      "4     9    10    20\n",
      "Number of column is 3\n",
      "Number of row is 5\n"
     ]
    }
   ],
   "source": [
    "import pandas as pd\n",
    "d = {'col1': [1, 3, 5, 7, 9], 'col2' : [2, 4, 6, 8, 10], 'col3' : [1, 5, 10, 15, 20]}\n",
    "df = pd.DataFrame(data=d)\n",
    "print(df)\n",
    "count_column = df.shape[1]\n",
    "print(\"Number of column is\", count_column)\n",
    "count_row = df.shape[0]\n",
    "print(\"Number of row is\", count_row)"
   ]
  }
 ],
 "metadata": {
  "kernelspec": {
   "display_name": "Python 3",
   "language": "python",
   "name": "python3"
  },
  "language_info": {
   "codemirror_mode": {
    "name": "ipython",
    "version": 3
   },
   "file_extension": ".py",
   "mimetype": "text/x-python",
   "name": "python",
   "nbconvert_exporter": "python",
   "pygments_lexer": "ipython3",
   "version": "3.13.2"
  }
 },
 "nbformat": 4,
 "nbformat_minor": 5
}

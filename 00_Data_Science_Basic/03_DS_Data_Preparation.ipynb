{
 "cells": [
  {
   "cell_type": "markdown",
   "id": "da5342cc",
   "metadata": {},
   "source": [
    "Import data using Pandas in Python"
   ]
  },
  {
   "cell_type": "code",
   "execution_count": null,
   "id": "56a2240b",
   "metadata": {},
   "outputs": [],
   "source": [
    "import pandas as pd\n",
    "health_data = pd.read_csv('data.csv', header=0, sep=\",\")\n",
    "print(health_data)"
   ]
  },
  {
   "cell_type": "markdown",
   "id": "d30228b4",
   "metadata": {},
   "source": [
    "head() function to only show the top 5rows"
   ]
  },
  {
   "cell_type": "code",
   "execution_count": null,
   "id": "e5d97bbe",
   "metadata": {},
   "outputs": [],
   "source": [
    "import pandas as pd\n",
    "health_data = pd.read_csv(\"data.csv\", header=0, sep=\",\")\n",
    "print(health_data.head())"
   ]
  },
  {
   "cell_type": "markdown",
   "id": "1e92af6c",
   "metadata": {},
   "source": [
    "Data Cleaning"
   ]
  },
  {
   "cell_type": "markdown",
   "id": "e31b4291",
   "metadata": {},
   "source": [
    "Remove blank rows"
   ]
  },
  {
   "cell_type": "code",
   "execution_count": null,
   "id": "56923a41",
   "metadata": {},
   "outputs": [],
   "source": [
    "import pandas as pd\n",
    "health_data = pd.read_csv(\"data.csv\", header=0, sep=\",\")\n",
    "health_data.dropna(axis=0,inplace=True)\n",
    "print(health_data.head())"
   ]
  },
  {
   "cell_type": "markdown",
   "id": "eb267921",
   "metadata": {},
   "source": [
    "Data Types"
   ]
  },
  {
   "cell_type": "code",
   "execution_count": null,
   "id": "2df437e2",
   "metadata": {},
   "outputs": [],
   "source": [
    "import pandas as pd\n",
    "health_data = pd.read_csv(\"data.csv\", header=0, sep=\",\")\n",
    "print(health_data.info())"
   ]
  },
  {
   "cell_type": "markdown",
   "id": "055f811b",
   "metadata": {},
   "source": [
    "Change data type"
   ]
  },
  {
   "cell_type": "code",
   "execution_count": null,
   "id": "a06e973e",
   "metadata": {},
   "outputs": [],
   "source": [
    "import pandas as pd\n",
    "\n",
    "health_data = pd.read_csv(\"data.csv\", header=0, sep=\",\")\n",
    "health_data.dropna(axis=0,inplace=True)\n",
    "\n",
    "health_data[\"Average_Pulse\"] = health_data['Average_Pulse'].astype(float)\n",
    "health_data[\"Max_Pulse\"] = health_data[\"Max_Pulse\"].astype(float)"
   ]
  },
  {
   "cell_type": "markdown",
   "id": "6dfb2eea",
   "metadata": {},
   "source": [
    "Analize Data"
   ]
  },
  {
   "cell_type": "code",
   "execution_count": null,
   "id": "ffa75ef7",
   "metadata": {},
   "outputs": [],
   "source": [
    "import pandas as pd\n",
    "health_data = pd.read_csv(\"data.csv\", header=0, sep=\",\")\n",
    "pd.set_option('display.max_columns', None)\n",
    "print(health_data.describe())"
   ]
  }
 ],
 "metadata": {
  "kernelspec": {
   "display_name": "Python 3",
   "language": "python",
   "name": "python3"
  },
  "language_info": {
   "codemirror_mode": {
    "name": "ipython",
    "version": 3
   },
   "file_extension": ".py",
   "mimetype": "text/x-python",
   "name": "python",
   "nbconvert_exporter": "python",
   "pygments_lexer": "ipython3",
   "version": "3.13.2"
  }
 },
 "nbformat": 4,
 "nbformat_minor": 5
}
